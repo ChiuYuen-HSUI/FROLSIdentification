{
 "cells": [
  {
   "cell_type": "markdown",
   "metadata": {
    "collapsed": true,
    "slideshow": {
     "slide_type": "slide"
    }
   },
   "source": [
    "# Data\n",
    "\n",
    "In the cell below, we obtain a signal of the system $y(k) = 0.1y(k-1) - 0.5u(k-1)y(k-1) + 0.1u(k-2)$. You can change it as you wish, or use your own data collected elsewhere. If you want to use your own data, it is better to use [this software](https://github.com/rnwatanabe/FROLSIdentification) in the Matlab or Octave environment."
   ]
  },
  {
   "cell_type": "code",
   "execution_count": 2,
   "metadata": {
    "collapsed": false,
    "slideshow": {
     "slide_type": "skip"
    }
   },
   "outputs": [],
   "source": [
    "\n",
    "Fs = 100; % Sampling frequency of the data acquisition, in Hz.\n",
    "\n",
    "\n",
    "u = randn(2000, 1);\n",
    "y = zeros(size(u));\n",
    "t = (1:length(y))/Fs;\n",
    "\n",
    "for k = 5:length(y)\n",
    "   y(k) = 0.1*y(k-1) - 0.5*u(k-1)*y(k-1) + 0.1*u(k-2); \n",
    "end\n"
   ]
  },
  {
   "cell_type": "code",
   "execution_count": 3,
   "metadata": {
    "collapsed": false,
    "scrolled": true,
    "slideshow": {
     "slide_type": "slide"
    }
   },
   "outputs": [
    {
     "data": {
      "image/png": "[encoded data removed]",
      "text/plain": [
       "<IPython.core.display.Image object>"
      ]
     },
     "metadata": {},
     "output_type": "display_data"
    }
   ],
   "source": [
    "subplot(1,2,1);plot(t, u); title('input'); xlabel('t(s)')\n",
    "subplot(1,2,2);plot(t, y); title('output');  xlabel('t(s)')\n",
    "    \n",
    "    "
   ]
  },
  {
   "cell_type": "markdown",
   "metadata": {
    "slideshow": {
     "slide_type": "skip"
    }
   },
   "source": [
    "## Prepare the data\n",
    "\n",
    "Here we throw away the first 100 samples to avoid transient effects. This prepare could also involve some kind of normalization."
   ]
  },
  {
   "cell_type": "code",
   "execution_count": 4,
   "metadata": {
    "collapsed": true,
    "slideshow": {
     "slide_type": "skip"
    }
   },
   "outputs": [],
   "source": [
    "input = u(100:end);   \n",
    "output = y(100:end);  "
   ]
  },
  {
   "cell_type": "markdown",
   "metadata": {
    "slideshow": {
     "slide_type": "slide"
    }
   },
   "source": [
    "# Identification Process"
   ]
  },
  {
   "cell_type": "markdown",
   "metadata": {
    "slideshow": {
     "slide_type": "slide"
    }
   },
   "source": [
    "$\\require{dsfont}$\n",
    "The model structure that we use to identify the nonlinear  system is called as NARMAX and has the following structure:\n",
    "\n",
    "$\n",
    "\\begin{equation}\n",
    "y(k) = F\\left[y(k-1), y(k-2),..., y(k-m_y), u(k-d), ..., u(k-d-m_u), \\xi(k-1), ..., \\xi(k-m_\\xi) \\right]  \n",
    "\\end{equation}\n",
    "$\n",
    "\n",
    "where $u$ is the input signal, $y$ is the output signal and $\\xi$ is the residue signal. The format of the NARMAX model used is the polynomial form:\n",
    "\n",
    "$\n",
    "\\begin{equation}\n",
    "  y(k) = \\beta_0 + \\sum\\limits_{i_1=1}^n\\beta_{i_1}x_{i_1}(k) + \\sum\\limits_{i_1=1}^n\\sum\\limits_{i_2=i_1}^n\\beta_{i_1i_2}x_{i_1}(k)x_{i_2}(k)+...+\\sum\\limits_{i_1=1}^n...\\sum\\limits_{i_l=i_{l-1}}^n\\beta_{i_1i_2... i_l}x_{i_1}x_{i_2}... x_{i_l} + \\xi(k)\n",
    "\\end{equation}\n",
    "$\n",
    "with\n",
    "\n",
    "$\n",
    "\\begin{equation}\n",
    "x_m(k)=\\left\\{ \\begin{array}{l l}\n",
    "u(k-m) & 1\\leqslant m \\leqslant m_u\\\\\n",
    "y(k-(m - m_u)) & m_u+1\\leqslant m \\leqslant m_u + m_y\\\\\n",
    "\\xi(k - (m - m_u - m_y)) & m_u+m_y+1 \\leqslant m \\leqslant m_u+m_y+m_\\xi\n",
    "\\end{array}\\right.  \n",
    "\\end{equation}\n",
    "$\n",
    "\n",
    "where $m_u$ is the number of input  past values to be considered in the model search, $m_y$ is the number of output  past values to be considered in the model search, $m_\\xi$ is the number of the residue past values to be considered in the model search and $l$ is the maximal polynomial degree to be considered to form the combinations between the signals $u$, $y$ e $\\xi$.\n",
    "\n",
    "Calling each combination $x_{i_1}x_{i_2}... x_{i_l}$ as $p_i$, the Equation above can be rewritten as:\n",
    "\n",
    "$\n",
    "\\begin{equation}\n",
    "  y(k) = \\sum\\limits_{i=1}^M \\beta_ip_i(k) + \\xi(k)\n",
    "\\end{equation}\n",
    "$\n",
    "\n",
    "where $M$ is the number of combinations used in the model search. In matricial form, the equation above is:\n",
    "\n",
    "$\n",
    "\\begin{equation}\n",
    "  Y = PB+\\xi \n",
    "\\end{equation}\n",
    "$\n",
    "\n",
    "where:\n",
    "\n",
    "$\n",
    "\\begin{align}\n",
    "  Y&=\\left[y(1),y(2), ..., y(N)\\right]^T\\\\\n",
    "  B &= \\left[\\beta_1, \\beta_2, ..., \\beta_M \\right]^T\\\\\n",
    "  \\xi&=\\left[\\xi(1), \\xi(2), ..., \\xi(N) \\right]^T\\\\\n",
    "  P = \\left[p_1,p_2,..., p_M\\right] &= \\left[\\begin{array}{cccc}\n",
    "  p_1(1)&p_2(1)&...&p_M(1)\\\\\n",
    "  \\vdots&\\vdots&\\ddots&\\vdots\\\\\n",
    "  p_1(k)&p_2(k)&...&p_M(k)\\\\\n",
    "  \\vdots&\\vdots&\\ddots&\\vdots\\\\\n",
    "  p_1(N)&p_2(N)&...&p_M(N)\n",
    "  \\end{array}\\right]  \n",
    "\\end{align}\n",
    "$\n",
    "\n",
    "where $^T$ stand for the matrix or vector transponse."
   ]
  },
  {
   "cell_type": "markdown",
   "metadata": {
    "slideshow": {
     "slide_type": "slide"
    }
   },
   "source": [
    "## Parameters of the identification process\n",
    "\n",
    "For the identification of the system described at the beginning of this notebook we use the parameters in the cell bellow. As in this demonstration of the FROLS method we know our system, the used parameters are exactly what we need,  but normally we do not know what parameters to use! Normally, to find these parameters, we need to try some values before finding the right ones. If you use $m_u, m_y$ and $m_\\xi$ values higher than necessary, the algorithm will work but the time of processing will be longer. If you use them lower than necessary, the algorithm will not find the correct model. Try to modify the parameters below to see what happens."
   ]
  },
  {
   "cell_type": "code",
   "execution_count": 5,
   "metadata": {
    "collapsed": true
   },
   "outputs": [],
   "source": [
    "mu = 3; \n",
    "my = 2; \n",
    "me = max(mu,my); \n",
    "degree = 3; \n",
    "delay = 1; "
   ]
  },
  {
   "cell_type": "code",
   "execution_count": 6,
   "metadata": {
    "collapsed": true
   },
   "outputs": [],
   "source": [
    "dataLength = 500; % number of samplings to be used during the identification process. Normally a number between 400 and\n",
    "% 600 is good. Do not use large numbers.\n",
    "pho = 1e-2; % a lower value will give you more identified terms. A higher value will give you less.\n",
    "delta = 1e-1; "
   ]
  },
  {
   "cell_type": "markdown",
   "metadata": {},
   "source": [
    "## Build the P matrix"
   ]
  },
  {
   "cell_type": "code",
   "execution_count": 7,
   "metadata": {
    "collapsed": false
   },
   "outputs": [],
   "source": [
    "numberOfCandidates = round(findPMatrixSize(mu - delay + 1, my, degree));\n",
    "begin = randi([1 length(input) - dataLength - 1], 1);\n",
    "u = input(begin+1:begin + dataLength);\n",
    "y = output(begin+1:begin + dataLength);\n",
    "[p, D]= buildPMatrix(u, y, degree, mu, my, delay);\n",
    "y = y(max(mu,my) + 1:end);"
   ]
  },
  {
   "cell_type": "markdown",
   "metadata": {
    "slideshow": {
     "slide_type": "slide"
    }
   },
   "source": [
    "The terms that the FROLS algorithm will use to try to find the model are:"
   ]
  },
  {
   "cell_type": "code",
   "execution_count": 8,
   "metadata": {
    "collapsed": false,
    "slideshow": {
     "slide_type": "slide"
    }
   },
   "outputs": [
    {
     "data": {
      "text/plain": [
       "Columns 1 through 6\n",
       "\n",
       "    '1'    'u(k-1)'    'u(k-2)'    'u(k-3)'    'y(k-1)'    'y(k-2)'\n",
       "\n",
       "  Columns 7 through 10\n",
       "\n",
       "    'u(k-1)u(k-1)'    'u(k-1)u(k-2)'    'u(k-1)u(k-3)'    'u(k-1)y(k-1)'\n",
       "\n",
       "  Columns 11 through 14\n",
       "\n",
       "    'u(k-1)y(k-2)'    'u(k-2)u(k-2)'    'u(k-2)u(k-3)'    'u(k-2)y(k-1)'\n",
       "\n",
       "  Columns 15 through 18\n",
       "\n",
       "    'u(k-2)y(k-2)'    'u(k-3)u(k-3)'    'u(k-3)y(k-1)'    'u(k-3)y(k-2)'\n",
       "\n",
       "  Columns 19 through 22\n",
       "\n",
       "    'y(k-1)y(k-1)'    'y(k-1)y(k-2)'    'y(k-2)y(k-2)'    'u(k-1)u(k-1)u(k-1)'\n",
       "\n",
       "  Columns 23 through 25\n",
       "\n",
       "    'u(k-1)u(k-1)u(k-2)'    'u(k-1)u(k-1)u(k-3)'    'u(k-1)u(k-1)y(k-1)'\n",
       "\n",
       "  Columns 26 through 28\n",
       "\n",
       "    'u(k-1)u(k-1)y(k-2)'    'u(k-1)u(k-2)u(k-2)'    'u(k-1)u(k-2)u(k-3)'\n",
       "\n",
       "  Columns 29 through 31\n",
       "\n",
       "    'u(k-1)u(k-2)y(k-1)'    'u(k-1)u(k-2)y(k-2)'    'u(k-1)u(k-3)u(k-3)'\n",
       "\n",
       "  Columns 32 through 34\n",
       "\n",
       "    'u(k-1)u(k-3)y(k-1)'    'u(k-1)u(k-3)y(k-2)'    'u(k-1)y(k-1)y(k-1)'\n",
       "\n",
       "  Columns 35 through 37\n",
       "\n",
       "    'u(k-1)y(k-1)y(k-2)'    'u(k-1)y(k-2)y(k-2)'    'u(k-2)u(k-2)u(k-2)'\n",
       "\n",
       "  Columns 38 through 40\n",
       "\n",
       "    'u(k-2)u(k-2)u(k-3)'    'u(k-2)u(k-2)y(k-1)'    'u(k-2)u(k-2)y(k-2)'\n",
       "\n",
       "  Columns 41 through 43\n",
       "\n",
       "    'u(k-2)u(k-3)u(k-3)'    'u(k-2)u(k-3)y(k-1)'    'u(k-2)u(k-3)y(k-2)'\n",
       "\n",
       "  Columns 44 through 46\n",
       "\n",
       "    'u(k-2)y(k-1)y(k-1)'    'u(k-2)y(k-1)y(k-2)'    'u(k-2)y(k-2)y(k-2)'\n",
       "\n",
       "  Columns 47 through 49\n",
       "\n",
       "    'u(k-3)u(k-3)u(k-3)'    'u(k-3)u(k-3)y(k-1)'    'u(k-3)u(k-3)y(k-2)'\n",
       "\n",
       "  Columns 50 through 52\n",
       "\n",
       "    'u(k-3)y(k-1)y(k-1)'    'u(k-3)y(k-1)y(k-2)'    'u(k-3)y(k-2)y(k-2)'\n",
       "\n",
       "  Columns 53 through 55\n",
       "\n",
       "    'y(k-1)y(k-1)y(k-1)'    'y(k-1)y(k-1)y(k-2)'    'y(k-1)y(k-2)y(k-2)'\n",
       "\n",
       "  Column 56\n",
       "\n",
       "    'y(k-2)y(k-2)y(k-2)'"
      ]
     },
     "execution_count": 8,
     "metadata": {},
     "output_type": "execute_result"
    }
   ],
   "source": [
    "disp(D)"
   ]
  },
  {
   "cell_type": "markdown",
   "metadata": {
    "slideshow": {
     "slide_type": "slide"
    }
   },
   "source": [
    "The first 15 lines of the $P$ matrix are:"
   ]
  },
  {
   "cell_type": "code",
   "execution_count": 9,
   "metadata": {
    "collapsed": false,
    "slideshow": {
     "slide_type": "slide"
    }
   },
   "outputs": [
    {
     "data": {
      "text/plain": [
       "Columns 1 through 7\n",
       "\n",
       "    1.0000   -2.4995    1.3418    0.8542    0.0822    0.0056    6.2477\n",
       "    1.0000   -0.1676   -2.4995    1.3418    0.2452    0.0822    0.0281\n",
       "    1.0000    0.3530   -0.1676   -2.4995   -0.2049    0.2452    0.1246\n",
       "    1.0000    0.7173    0.3530   -0.1676   -0.0011   -0.2049    0.5145\n",
       "    1.0000   -1.3049    0.7173    0.3530    0.0356   -0.0011    1.7026\n",
       "    1.0000   -1.0059   -1.3049    0.7173    0.0985    0.0356    1.0118\n",
       "    1.0000    0.7907   -1.0059   -1.3049   -0.0711    0.0985    0.6252\n",
       "    1.0000   -0.1166    0.7907   -1.0059   -0.0796   -0.0711    0.0136\n",
       "    1.0000    0.5531   -0.1166    0.7907    0.0665   -0.0796    0.3059\n",
       "    1.0000   -0.9606    0.5531   -0.1166   -0.0234    0.0665    0.9228\n",
       "    1.0000   -1.6338   -0.9606    0.5531    0.0417   -0.0234    2.6693\n",
       "    1.0000    0.7612   -1.6338   -0.9606   -0.0578    0.0417    0.5794\n",
       "    1.0000    1.1933    0.7612   -1.6338   -0.1472   -0.0578    1.4240\n",
       "    1.0000    1.6321    1.1933    0.7612    0.1492   -0.1472    2.6636\n",
       "    1.0000   -1.5322    1.6321    1.1933    0.0125    0.1492    2.3476\n",
       "\n",
       "  Columns 8 through 14\n",
       "\n",
       "   -3.3540   -2.1351   -0.2055   -0.0139    1.8006    1.1462    0.1103\n",
       "    0.4188   -0.2248   -0.0411   -0.0138    6.2477   -3.3540   -0.6128\n",
       "   -0.0592   -0.8824   -0.0723    0.0866    0.0281    0.4188    0.0343\n",
       "    0.2532   -0.1202   -0.0008   -0.1470    0.1246   -0.0592   -0.0004\n",
       "   -0.9359   -0.4606   -0.0464    0.0014    0.5145    0.2532    0.0255\n",
       "    1.3125   -0.7215   -0.0991   -0.0358    1.7026   -0.9359   -0.1285\n",
       "   -0.7953   -1.0317   -0.0562    0.0779    1.0118    1.3125    0.0715\n",
       "   -0.0922    0.1173    0.0093    0.0083    0.6252   -0.7953   -0.0629\n",
       "   -0.0645    0.4373    0.0368   -0.0440    0.0136   -0.0922   -0.0077\n",
       "   -0.5313    0.1120    0.0225   -0.0639    0.3059   -0.0645   -0.0129\n",
       "    1.5695   -0.9036   -0.0682    0.0382    0.9228   -0.5313   -0.0401\n",
       "   -1.2437   -0.7312   -0.0440    0.0318    2.6693    1.5695    0.0944\n",
       "    0.9083   -1.9496   -0.1756   -0.0690    0.5794   -1.2437   -0.1120\n",
       "    1.9475    1.2423    0.2435   -0.2402    1.4240    0.9083    0.1781\n",
       "   -2.5006   -1.8284   -0.0191   -0.2286    2.6636    1.9475    0.0204\n",
       "\n",
       "  Columns 15 through 21\n",
       "\n",
       "    0.0075    0.7297    0.0702    0.0048    0.0068    0.0005    0.0000\n",
       "   -0.2055    1.8006    0.3290    0.1103    0.0601    0.0202    0.0068\n",
       "   -0.0411    6.2477    0.5121   -0.6128    0.0420   -0.0502    0.0601\n",
       "   -0.0723    0.0281    0.0002    0.0343    0.0000    0.0002    0.0420\n",
       "   -0.0008    0.1246    0.0126   -0.0004    0.0013   -0.0000    0.0000\n",
       "   -0.0464    0.5145    0.0706    0.0255    0.0097    0.0035    0.0013\n",
       "   -0.0991    1.7026    0.0928   -0.1285    0.0051   -0.0070    0.0097\n",
       "   -0.0562    1.0118    0.0801    0.0715    0.0063    0.0057    0.0051\n",
       "    0.0093    0.6252    0.0526   -0.0629    0.0044   -0.0053    0.0063\n",
       "    0.0368    0.0136    0.0027   -0.0077    0.0005   -0.0016    0.0044\n",
       "    0.0225    0.3059    0.0231   -0.0129    0.0017   -0.0010    0.0005\n",
       "   -0.0682    0.9228    0.0555   -0.0401    0.0033   -0.0024    0.0017\n",
       "   -0.0440    2.6693    0.2404    0.0944    0.0217    0.0085    0.0033\n",
       "   -0.1756    0.5794    0.1136   -0.1120    0.0223   -0.0220    0.0217\n",
       "    0.2435    1.4240    0.0149    0.1781    0.0002    0.0019    0.0223\n",
       "\n",
       "  Columns 22 through 28\n",
       "\n",
       "  -15.6163    8.3834    5.3368    0.5138    0.0349   -4.5005   -2.8650\n",
       "   -0.0047   -0.0702    0.0377    0.0069    0.0023   -1.0469    0.5620\n",
       "    0.0440   -0.0209   -0.3115   -0.0255    0.0306    0.0099    0.1478\n",
       "    0.3690    0.1816   -0.0862   -0.0006   -0.1054    0.0894   -0.0424\n",
       "   -2.2217    1.2212    0.6011    0.0606   -0.0018   -0.6713   -0.3304\n",
       "   -1.0177   -1.3202    0.7257    0.0997    0.0360   -1.7126    0.9414\n",
       "    0.4943   -0.6288   -0.8158   -0.0444    0.0616    0.8000    1.0378\n",
       "   -0.0016    0.0107   -0.0137   -0.0011   -0.0010   -0.0729    0.0927\n",
       "    0.1692   -0.0357    0.2419    0.0203   -0.0243    0.0075   -0.0510\n",
       "   -0.8865    0.5104   -0.1076   -0.0216    0.0613   -0.2939    0.0619\n",
       "   -4.3611   -2.5643    1.4764    0.1114   -0.0624   -1.5077    0.8681\n",
       "    0.4411   -0.9467   -0.5566   -0.0335    0.0242    2.0319    1.1947\n",
       "    1.6992    1.0839   -2.3265   -0.2096   -0.0823    0.6914   -1.4841\n",
       "    4.3472    3.1785    2.0275    0.3974   -0.3920    2.3240    1.4825\n",
       "   -3.5970    3.8314    2.8014    0.0293    0.3503   -4.0812   -2.9840\n",
       "\n",
       "  Columns 29 through 35\n",
       "\n",
       "   -0.2758   -0.0187   -1.8238   -0.1756   -0.0119   -0.0169   -0.0011\n",
       "    0.1027    0.0344   -0.3017   -0.0551   -0.0185   -0.0101   -0.0034\n",
       "    0.0121   -0.0145    2.2055    0.1808   -0.2163    0.0148   -0.0177\n",
       "   -0.0003   -0.0519    0.0201    0.0001    0.0246    0.0000    0.0002\n",
       "   -0.0333    0.0010   -0.1626   -0.0164    0.0005   -0.0017    0.0001\n",
       "    0.1293    0.0467   -0.5175   -0.0711   -0.0257   -0.0098   -0.0035\n",
       "    0.0565   -0.0783    1.3462    0.0734   -0.1016    0.0040   -0.0055\n",
       "    0.0073    0.0066   -0.1179   -0.0093   -0.0083   -0.0007   -0.0007\n",
       "   -0.0043    0.0051    0.3458    0.0291   -0.0348    0.0024   -0.0029\n",
       "    0.0124   -0.0353   -0.0131   -0.0026    0.0074   -0.0005    0.0015\n",
       "    0.0655   -0.0367   -0.4998   -0.0377    0.0211   -0.0028    0.0016\n",
       "    0.0719   -0.0519    0.7025    0.0423   -0.0305    0.0025   -0.0018\n",
       "   -0.1337   -0.0525    3.1853    0.2869    0.1127    0.0258    0.0101\n",
       "    0.2906   -0.2866    0.9457    0.1854   -0.1828    0.0363   -0.0358\n",
       "   -0.0312   -0.3731   -2.1818   -0.0228   -0.2728   -0.0002   -0.0029\n",
       "\n",
       "  Columns 36 through 42\n",
       "\n",
       "   -0.0001    2.4161    1.5380    0.1481    0.0100    0.9791    0.0943\n",
       "   -0.0011  -15.6163    8.3834    1.5318    0.5138   -4.5005   -0.8223\n",
       "    0.0212   -0.0047   -0.0702   -0.0058    0.0069   -1.0469   -0.0858\n",
       "    0.0301    0.0440   -0.0209   -0.0001   -0.0255    0.0099    0.0001\n",
       "   -0.0000    0.3690    0.1816    0.0183   -0.0006    0.0894    0.0090\n",
       "   -0.0013   -2.2217    1.2212    0.1677    0.0606   -0.6713   -0.0922\n",
       "    0.0077   -1.0177   -1.3202   -0.0719    0.0997   -1.7126   -0.0933\n",
       "   -0.0006    0.4943   -0.6288   -0.0498   -0.0444    0.8000    0.0633\n",
       "    0.0035   -0.0016    0.0107    0.0009   -0.0011   -0.0729   -0.0061\n",
       "   -0.0042    0.1692   -0.0357   -0.0072    0.0203    0.0075    0.0015\n",
       "   -0.0009   -0.8865    0.5104    0.0385   -0.0216   -0.2939   -0.0222\n",
       "    0.0013   -4.3611   -2.5643   -0.1543    0.1114   -1.5077   -0.0907\n",
       "    0.0040    0.4411   -0.9467   -0.0853   -0.0335    2.0319    0.1830\n",
       "    0.0353    1.6992    1.0839    0.2125   -0.2096    0.6914    0.1355\n",
       "   -0.0341    4.3472    3.1785    0.0333    0.3974    2.3240    0.0243\n",
       "\n",
       "  Columns 43 through 49\n",
       "\n",
       "    0.0064    0.0091    0.0006    0.0000    0.6233    0.0600    0.0041\n",
       "   -0.2758   -0.1503   -0.0504   -0.0169    2.4161    0.4415    0.1481\n",
       "    0.1027   -0.0070    0.0084   -0.0101  -15.6163   -1.2801    1.5318\n",
       "    0.0121    0.0000    0.0001    0.0148   -0.0047   -0.0000   -0.0058\n",
       "   -0.0003    0.0009   -0.0000    0.0000    0.0440    0.0044   -0.0001\n",
       "   -0.0333   -0.0127   -0.0046   -0.0017    0.3690    0.0507    0.0183\n",
       "    0.1293   -0.0051    0.0070   -0.0098   -2.2217   -0.1211    0.1677\n",
       "    0.0565    0.0050    0.0045    0.0040   -1.0177   -0.0805   -0.0719\n",
       "    0.0073   -0.0005    0.0006   -0.0007    0.4943    0.0416   -0.0498\n",
       "   -0.0043    0.0003   -0.0009    0.0024   -0.0016   -0.0003    0.0009\n",
       "    0.0124   -0.0017    0.0009   -0.0005    0.1692    0.0128   -0.0072\n",
       "    0.0655   -0.0055    0.0039   -0.0028   -0.8865   -0.0533    0.0385\n",
       "    0.0719    0.0165    0.0065    0.0025   -4.3611   -0.3928   -0.1543\n",
       "   -0.1337    0.0266   -0.0262    0.0258    0.4411    0.0865   -0.0853\n",
       "    0.2906    0.0003    0.0030    0.0363    1.6992    0.0178    0.2125\n",
       "\n",
       "  Columns 50 through 56\n",
       "\n",
       "    0.0058    0.0004    0.0000    0.0006    0.0000    0.0000    0.0000\n",
       "    0.0807    0.0271    0.0091    0.0147    0.0049    0.0017    0.0006\n",
       "   -0.1049    0.1256   -0.1503   -0.0086    0.0103   -0.0123    0.0147\n",
       "   -0.0000   -0.0000   -0.0070   -0.0000   -0.0000   -0.0000   -0.0086\n",
       "    0.0004   -0.0000    0.0000    0.0000   -0.0000    0.0000   -0.0000\n",
       "    0.0070    0.0025    0.0009    0.0010    0.0003    0.0001    0.0000\n",
       "   -0.0066    0.0091   -0.0127   -0.0004    0.0005   -0.0007    0.0010\n",
       "   -0.0064   -0.0057   -0.0051   -0.0005   -0.0005   -0.0004   -0.0004\n",
       "    0.0035   -0.0042    0.0050    0.0003   -0.0004    0.0004   -0.0005\n",
       "   -0.0001    0.0002   -0.0005   -0.0000    0.0000   -0.0001    0.0003\n",
       "    0.0010   -0.0005    0.0003    0.0001   -0.0000    0.0000   -0.0000\n",
       "   -0.0032    0.0023   -0.0017   -0.0002    0.0001   -0.0001    0.0001\n",
       "   -0.0354   -0.0139   -0.0055   -0.0032   -0.0013   -0.0005   -0.0002\n",
       "    0.0169   -0.0167    0.0165    0.0033   -0.0033    0.0032   -0.0032\n",
       "    0.0002    0.0022    0.0266    0.0000    0.0000    0.0003    0.0033"
      ]
     },
     "execution_count": 9,
     "metadata": {},
     "output_type": "execute_result"
    }
   ],
   "source": [
    "disp(p(1:15,:))"
   ]
  },
  {
   "cell_type": "markdown",
   "metadata": {},
   "source": [
    "## The system identification"
   ]
  },
  {
   "cell_type": "code",
   "execution_count": 10,
   "metadata": {
    "collapsed": false
   },
   "outputs": [],
   "source": [
    "global l q g err A ESR M0;\n",
    "s = 1;\n",
    "ESR = 1;\n",
    "M = size(p, 3);\n",
    "l = zeros(1, M);"
   ]
  },
  {
   "cell_type": "markdown",
   "metadata": {},
   "source": [
    "### The function that implements the FROLS algorithm is written below, with brief explanations about some parts inserted in the code. Actually this function can handle more than one data collection of the same system (that is the reason of the m in mfrols), but in this notebook we will not use multiple trials. Just ignore the outside loop and the variable j.\n",
    "\n",
    "function beta = mfrols(p, y, pho, s)\n",
    "    \n",
    "$\\text{The global variables are used due to the lack of pointers in Matlab/Octave}$\n",
    "\n",
    "    global l;\n",
    "    global err ESR;\n",
    "    global A;\n",
    "    global q g M0;\n",
    "    beta = [];\n",
    "    M = size(p,2);\n",
    "    L = size(p,3);\n",
    "    gs=zeros(L,M);\n",
    "    ERR=zeros(L,M);\n",
    "    qs=zeros(size(p));\n",
    "    \n",
    "    for j=1:L\n",
    "        sigma = y(:,j)'*y(:,j);\n",
    "        \n",
    "        for m=1:M\n",
    "            if (max(m*ones(size(l))==l)==0)\n",
    "            "
   ]
  },
  {
   "cell_type": "markdown",
   "metadata": {},
   "source": [
    "$\\text{The Gram-Schmidt method was implemented in a modified way, as shown in Rice, JR(1966)}$\n",
    "\n",
    "$\\text{For each } m, \\text{ we compute: } \\\\\n",
    "qs_m = p_m - \\sum\\limits_{r=1}^{s-1}\\frac{q_r^Tqs_m}{q_r^Tq_r}q_r$\n",
    "                 \n",
    "                 qs(:,m,j) = p(:,m,j);\n",
    "                 for r=1:s-1\n",
    "                     qs(:,m,j) = qs(:,m,j) - (squeeze(q(:,r,j))'*qs(:,m,j))/...\n",
    "                         (squeeze(q(:,r,j))'*squeeze(q(:,r,j)))*squeeze(q(:,r,j));\n",
    "                 end"
   ]
  },
  {
   "cell_type": "markdown",
   "metadata": {},
   "source": [
    " \n",
    "$\\text{We compute for each candidate that was not chosen:}$\n",
    "\n",
    "$gs_m = \\frac{y^Tqs_m}{qs_m^Tqs_m}\\\\\n",
    "\\text{ERR}_m = gs_m^2\\frac{qs_m^Tqs}{y^Ty}$\n",
    "\n",
    "                gs(j,m) = (y(:,j)'*squeeze(qs(:,m,j)))/(squeeze(qs(:,m,j))'*squeeze(qs(:,m,j)));\n",
    "                ERR(j,m) = (gs(j,m)^2)*(squeeze(qs(:,m,j))'*squeeze(qs(:,m,j)))/sigma;\n",
    "            else\n",
    "                ERR(j,m)=0;\n",
    "            end\n",
    "        end \n",
    "    end"
   ]
  },
  {
   "cell_type": "markdown",
   "metadata": {},
   "source": [
    "    \n",
    "$\\text{And here we chose to be part of the model the candidate term with the highest ERR.}$\n",
    "\n",
    "    ERR_m = mean(ERR, 1);\n",
    "    l(s) = find(ERR_m == max(ERR_m), 1);\n",
    "    err(s) = ERR_m(l(s));\n",
    "    for j=1:L"
   ]
  },
  {
   "cell_type": "markdown",
   "metadata": {},
   "source": [
    "$\\text{After the model term has been chosen we compute the values of the matrix } A$\n",
    "\n",
    "\n",
    "$a_{r,s} = \\frac{q_r^Tp_{\\text{chosen term}}}{q_r^Tq_r}, 1 \\leqslant r \\leqslant s - 1\\\\\n",
    "a_{s,s} = 1$\n",
    "\n",
    "        for r = 1:s-1\n",
    "            A(r, s, j) = (q(:,r,j)'*p(:,l(s),j))/(q(:,r,j)'*q(:,r,j));    \n",
    "        end\n",
    "        A(s, s, j) = 1;\n",
    "        q(:, s,j) = qs(:,l(s),j);\n",
    "        g(j,s) = gs(j,l(s));\n",
    "    end    \n",
    "\n",
    "    \n",
    "$\\text{After this process the matrix } A \\text{ will have the format: }\\\\\n",
    "A=\\left[\\begin{array}{cccc}\n",
    "  1&a_{12}&...&a_{1s}\\\\\n",
    "  0&1&...&a_{2s}\\\\\n",
    "  \\vdots&\\vdots&\\ddots&\\vdots\\\\\n",
    "  0&...&1&a_{s-1,s}\\\\\n",
    "  0&0&...&1  \\end{array} \\right]$\n",
    "\n",
    "    "
   ]
  },
  {
   "cell_type": "markdown",
   "metadata": {},
   "source": [
    "  ESR = ESR - err(s);  \n",
    "  \n",
    "$\\text{The stop criterium is based on the ERR value of the chosen term. If it is lower than } \\rho,\\text{ the process of search for terms stops.}$\n",
    "    \n",
    "    if (err(s) >= pho && s < M)\n",
    "       s = s + 1; \n",
    "       clear qs \n",
    "       clear gs\n",
    "       \n",
    " "
   ]
  },
  {
   "cell_type": "markdown",
   "metadata": {},
   "source": [
    "      \n",
    "$\\text{Here is the recurrent call of the frols algorithm.}$\n",
    "\n",
    "       beta = mfrols(p, y, pho, s);\n",
    "    else\n",
    "       M0 = s;\n",
    "       s = s + 1;\n",
    "       for j=1:L\n",
    "\n",
    "$\\text{ At the end, we compute the coefficients } \\beta \\text{ of each term by doing:}\\\\\n",
    "B = A^{-1}g$\n",
    "\n",
    "            beta(:,j) = A(:,:,j)\\g(j,:)';\n",
    "       end       \n",
    "    end   \n",
    "end"
   ]
  },
  {
   "cell_type": "code",
   "execution_count": 11,
   "metadata": {
    "collapsed": false
   },
   "outputs": [],
   "source": [
    "q = []; err=[]; A=[]; g=[]; \n",
    "beta = mfrols(p, y, pho, s);\n",
    "la = l(1:M0)';\n",
    "Da = D(la)';"
   ]
  },
  {
   "cell_type": "code",
   "execution_count": 12,
   "metadata": {
    "collapsed": false
   },
   "outputs": [],
   "source": [
    "[Dn, an, ln] = NARXNoiseModelIdentification(input, output,  degree, mu, my, me, delay, dataLength, 1, pho,  ...\n",
    "        beta, la);"
   ]
  },
  {
   "cell_type": "code",
   "execution_count": 13,
   "metadata": {
    "collapsed": false
   },
   "outputs": [],
   "source": [
    "[a, an, xi] = NARMAXCompleteIdentification(input, output, Da, Dn, dataLength, ...\n",
    "        1,  delta, degree, degree);"
   ]
  },
  {
   "cell_type": "markdown",
   "metadata": {
    "slideshow": {
     "slide_type": "slide"
    }
   },
   "source": [
    "## Identified Model"
   ]
  },
  {
   "cell_type": "code",
   "execution_count": 14,
   "metadata": {
    "collapsed": false,
    "slideshow": {
     "slide_type": "slide"
    }
   },
   "outputs": [
    {
     "data": {
      "text/plain": [
       "'u(k-2)'    '0.1'\n",
       "\n",
       "    'u(k-1)y(k-1)'    '-0.5'\n",
       "\n",
       "    'y(k-1)'    '0.1'"
      ]
     },
     "execution_count": 14,
     "metadata": {},
     "output_type": "execute_result"
    }
   ],
   "source": [
    "for i = 1:length(Da)\n",
    "    disp({Da{i}, num2str(a(i))}) \n",
    "end"
   ]
  },
  {
   "cell_type": "markdown",
   "metadata": {
    "slideshow": {
     "slide_type": "slide"
    }
   },
   "source": [
    "Note that the found terms should be the same of the system difference equation on the top of this notebook."
   ]
  },
  {
   "cell_type": "markdown",
   "metadata": {
    "slideshow": {
     "slide_type": "slide"
    }
   },
   "source": [
    "# Generalized Frequency Response Function (GFRF)"
   ]
  },
  {
   "cell_type": "markdown",
   "metadata": {
    "slideshow": {
     "slide_type": "slide"
    }
   },
   "source": [
    "If your identified system has terms with inputs and outputs, the GFRF will be non-null for \n",
    "degrees higher than the maximal polynomial degree. In this case, a good number\n",
    "is to add one to your maximal polynomial degree. If you have only\n",
    "inputs or outputs terms, the GFRFdegree will be the maximal\n",
    "polynomial degree."
   ]
  },
  {
   "cell_type": "code",
   "execution_count": 15,
   "metadata": {
    "collapsed": true
   },
   "outputs": [],
   "source": [
    "GFRFdegree = 3;"
   ]
  },
  {
   "cell_type": "code",
   "execution_count": 16,
   "metadata": {
    "collapsed": false
   },
   "outputs": [],
   "source": [
    "Hn = computeSignalsGFRF(Da, Fs, a, GFRFdegree);"
   ]
  },
  {
   "cell_type": "code",
   "execution_count": 17,
   "metadata": {
    "collapsed": false,
    "slideshow": {
     "slide_type": "slide"
    }
   },
   "outputs": [
    {
     "data": {
      "text/plain": [
       "GFRF of order 1: \n",
       "\n",
       "            /   pi f1 i \\\n",
       "         exp| - ------- |\n",
       "            \\     25    /\n",
       "  - ---------------------------\n",
       "       /    /   pi f1 i \\     \\\n",
       "       | exp| - ------- |     |\n",
       "       |    \\     50    /     |\n",
       "    10 | ---------------- - 1 |\n",
       "       \\        10            /\n",
       "GFRF of order 2: \n",
       "\n",
       "             /   pi f1 i \\    /   pi f1 i \\    /   pi f2 i \\\n",
       "          exp| - ------- | exp| - ------- | exp| - ------- |\n",
       "             \\     25    /    \\     50    /    \\     50    /\n",
       "  - --------------------------------------------------------------\n",
       "       /    /   pi f1 i \\     \\ /    /   pi f1 i   pi f2 i \\     \\\n",
       "       | exp| - ------- |     | | exp| - ------- - ------- |     |\n",
       "       |    \\     50    /     | |    \\     50        50    /     |\n",
       "    20 | ---------------- - 1 | | -------------------------- - 1 |\n",
       "       \\        10            / \\             10                 /\n",
       "GFRF of order 3: \n",
       "\n",
       "    /    /   pi f1 i \\                      /   pi f3 i \\                \\\n",
       "  - | exp| - ------- | exp(-#2) exp(-#1) exp| - ------- | exp(- #2 - #1) | /\n",
       "    \\    \\     25    /                      \\     50    /                /\n",
       "  \n",
       "     /\n",
       "     |\n",
       "     |    / exp(-#2)     \\ / exp(- #2 - #1)     \\\n",
       "     | 40 | -------- - 1 | | -------------- - 1 |\n",
       "     \\    \\    10        / \\       10           /\n",
       "  \n",
       "     /    /             pi f3 i \\     \\ \\\n",
       "     | exp| - #2 - #1 - ------- |     | |\n",
       "     |    \\               50    /     | |\n",
       "     | -------------------------- - 1 | |\n",
       "     \\             10                 / /\n",
       "  \n",
       "  where\n",
       "  \n",
       "           pi f2 i\n",
       "     #1 == -------\n",
       "             50\n",
       "  \n",
       "           pi f1 i\n",
       "     #2 == -------\n",
       "             50"
      ]
     },
     "execution_count": 17,
     "metadata": {},
     "output_type": "execute_result"
    }
   ],
   "source": [
    "for j = 1:GFRFdegree\n",
    "        disp(['GFRF of order ' num2str(j) ': '])\n",
    "        pretty(Hn{j})\n",
    "end"
   ]
  },
  {
   "cell_type": "code",
   "execution_count": 18,
   "metadata": {
    "collapsed": false
   },
   "outputs": [
    {
     "data": {
      "image/png": "[encoded data removed]",
      "text/plain": [
       "<IPython.core.display.Image object>"
      ]
     },
     "metadata": {},
     "output_type": "display_data"
    }
   ],
   "source": [
    "Hfun = matlabFunction((abs(Hn{1})));\n",
    "freq = [linspace(-50, 0, 50) linspace(0, 50, 50)];\n",
    "plot(freq, Hfun(freq))\n",
    "xlabel('f (Hz)'); ylabel('H_1')"
   ]
  },
  {
   "cell_type": "code",
   "execution_count": 19,
   "metadata": {
    "collapsed": false
   },
   "outputs": [
    {
     "data": {
      "image/png": "[encoded data removed]",
      "text/plain": [
       "<IPython.core.display.Image object>"
      ]
     },
     "metadata": {},
     "output_type": "display_data"
    }
   ],
   "source": [
    "Hfun = matlabFunction((abs(Hn{2})));\n",
    "freq1 = [linspace(-50, 0, 20) linspace(0, 50, 20)];\n",
    "freq2 = [linspace(-50, 0, 20) linspace(0, 50, 20)];\n",
    "[F1,F2] = meshgrid(freq1,freq2);\n",
    "surf(F1, F2, Hfun(F1,F2));\n",
    "xlabel('f_1 (Hz)'); ylabel('f_2 (Hz)');"
   ]
  },
  {
   "cell_type": "markdown",
   "metadata": {
    "slideshow": {
     "slide_type": "slide"
    }
   },
   "source": [
    "# Nonlinear Output Frequency Response Function (NOFRF)"
   ]
  },
  {
   "cell_type": "markdown",
   "metadata": {
    "slideshow": {
     "slide_type": "slide"
    }
   },
   "source": [
    "The frequency response of the output signal $y$ of a system to a given input $u$ is:\n",
    "\n",
    "$Y(j\\omega) = \\sum\\limits_{n=1}^N Y_n(j\\omega)$\n",
    "\n",
    "where:\n",
    "\n",
    "$Y_n(j\\omega)=\\frac{1/\\sqrt{n}}{(2\\pi)^{n-1}}\\int\\limits_{\\omega=\\omega_1+...+\\omega_n}H_n(j\\omega,...,j\\omega_n)\\prod\\limits_{i=1}^nU(j\\omega_i)d\\sigma_{\\omega n}$ "
   ]
  },
  {
   "cell_type": "markdown",
   "metadata": {},
   "source": [
    "As an example of the use of NOFRF, below the expressions above will be used to predict what will be the output of the system to the input signal $u(t) = cos(2\\pi 8t)$. "
   ]
  },
  {
   "cell_type": "code",
   "execution_count": 30,
   "metadata": {
    "collapsed": true
   },
   "outputs": [],
   "source": [
    "t = 0:1/Fs:10000/Fs-1/Fs;\n",
    "u = cos(2*pi*8*t);"
   ]
  },
  {
   "cell_type": "markdown",
   "metadata": {},
   "source": [
    "First, we compute the FFT of $u(t)$."
   ]
  },
  {
   "cell_type": "code",
   "execution_count": 35,
   "metadata": {
    "collapsed": false
   },
   "outputs": [
    {
     "data": {
      "image/png": "[encoded data removed]",
      "text/plain": [
       "<IPython.core.display.Image object>"
      ]
     },
     "metadata": {},
     "output_type": "display_data"
    }
   ],
   "source": [
    "fres = 0.1; % the frequency resolution of the NOFRF\n",
    "fmin = 0; % lower frequency limit of the NOFRF\n",
    "fmax = 50; % upper frequency limit of the NOFRF\n",
    "\n",
    "\n",
    "U = computeSignalFFT(u', Fs, fres); f_u = -Fs/2:fres:Fs/2;\n",
    "plot(f_u, abs(U));xlim([0 12]); xlabel('f(Hz)');ylabel('|U(f)|')"
   ]
  },
  {
   "cell_type": "code",
   "execution_count": 48,
   "metadata": {
    "collapsed": true
   },
   "outputs": [],
   "source": [
    "% Initialize variables for the NOFRF computation\n",
    "fv = -Fs/2:fres:Fs/2;\n",
    "f_out = fmin:fres:fmax;\n",
    "f_inputMin = 4;\n",
    "f_inputMax = 12;\n",
    "NOFRF = zeros(size(f_out));"
   ]
  },
  {
   "cell_type": "code",
   "execution_count": 50,
   "metadata": {
    "collapsed": false
   },
   "outputs": [
    {
     "data": {
      "image/png": "[encoded data removed]",
      "text/plain": [
       "<IPython.core.display.Image object>"
      ]
     },
     "metadata": {},
     "output_type": "display_data"
    }
   ],
   "source": [
    "for i = 1:3\n",
    "       if  logical(Hn{i} ~= 0)\n",
    "           HnFunction = matlabFunction(Hn{i});\n",
    "           for j = 1:length(f_out)\n",
    "               if i == 1\n",
    "                   validFrequencyIndices = abs(fv-f_out(j))<=1e-3 & f_out(j)>=f_inputMin(1) & f_out(j) <= f_inputMax(1);\n",
    "                   if ~isempty(U(validFrequencyIndices))\n",
    "                        NOFRF(j) = 2 * HnFunction(f_out(j)) * U(validFrequencyIndices);\n",
    "                   end\n",
    "               else\n",
    "                   NOFRF(j) = NOFRF(j) +  2 * computeDegreeNOFRF(HnFunction, U, Fs, i, f_out(j), fres, f_inputMin, f_inputMax);\n",
    "               end\n",
    "           end \n",
    "       end\n",
    "end \n",
    "plot(f_out, abs(NOFRF))"
   ]
  },
  {
   "cell_type": "code",
   "execution_count": null,
   "metadata": {
    "collapsed": true
   },
   "outputs": [],
   "source": []
  }
 ],
 "metadata": {
  "kernelspec": {
   "display_name": "Matlab",
   "language": "matlab",
   "name": "matlab_kernel"
  },
  "language_info": {
   "codemirror_mode": "Octave",
   "file_extension": ".m",
   "help_links": [
    {
     "text": "MetaKernel Magics",
     "url": "https://github.com/calysto/metakernel/blob/master/metakernel/magics/README.md"
    }
   ],
   "mimetype": "text/x-matlab",
   "name": "octave"
  }
 },
 "nbformat": 4,
 "nbformat_minor": 0
}
