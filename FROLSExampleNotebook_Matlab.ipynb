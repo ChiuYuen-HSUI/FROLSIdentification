{
 "cells": [
  {
   "cell_type": "markdown",
   "metadata": {
    "collapsed": true,
    "slideshow": {
     "slide_type": "slide"
    }
   },
   "source": [
    "# Data\n",
    "\n",
    "In the cell below, we obtain a signal of the system $y(k) = 0.1y(k-1) - 0.5u(k-1)y(k-1) + 0.1u(k-2)$. You can change it as you wish, or use your own data collected elsewhere. If you want to use your own data, it is better to use [this software](https://github.com/rnwatanabe/FROLSIdentification) in the Matlab or Octave environment."
   ]
  },
  {
   "cell_type": "code",
   "execution_count": 73,
   "metadata": {
    "collapsed": false,
    "slideshow": {
     "slide_type": "skip"
    }
   },
   "outputs": [],
   "source": [
    "\n",
    "Fs = 100; % Sampling frequency of the data acquisition, in Hz.\n",
    "\n",
    "\n",
    "u = randn(2000, 1);\n",
    "    \n",
    "    \n",
    "y = zeros(size(u));\n",
    "t = (1:length(y))/Fs;\n",
    "\n",
    "for k = 5:length(y)\n",
    "   y(k) = 0.3*y(k-1) - 0.5*u(k-1)*y(k-1) + 0.1*u(k-2); \n",
    "end\n"
   ]
  },
  {
   "cell_type": "code",
   "execution_count": 74,
   "metadata": {
    "collapsed": false,
    "scrolled": true,
    "slideshow": {
     "slide_type": "slide"
    }
   },
   "outputs": [
    {
     "data": {
      "image/png": "[encoded data removed]",
      "text/plain": [
       "<IPython.core.display.Image object>"
      ]
     },
     "metadata": {},
     "output_type": "display_data"
    }
   ],
   "source": [
    "subplot(1,2,1);plot(t, u); title('input'); xlabel('t(s)')\n",
    "subplot(1,2,2);plot(t, y); title('output');  xlabel('t(s)')\n",
    "    \n",
    "    "
   ]
  },
  {
   "cell_type": "markdown",
   "metadata": {
    "slideshow": {
     "slide_type": "skip"
    }
   },
   "source": [
    "## Prepare the data\n",
    "\n",
    "Here we throw away the first 100 samples to avoid transient effects. This prepare could also involve some kind of normalization."
   ]
  },
  {
   "cell_type": "code",
   "execution_count": 75,
   "metadata": {
    "collapsed": true,
    "slideshow": {
     "slide_type": "skip"
    }
   },
   "outputs": [],
   "source": [
    "input = u(100:end);   \n",
    "output = y(100:end);  "
   ]
  },
  {
   "cell_type": "markdown",
   "metadata": {
    "slideshow": {
     "slide_type": "slide"
    }
   },
   "source": [
    "# Identification Process"
   ]
  },
  {
   "cell_type": "markdown",
   "metadata": {
    "slideshow": {
     "slide_type": "slide"
    }
   },
   "source": [
    "$\\require{dsfont}$\n",
    "The model structure that we use to identify the nonlinear  system is called as NARMAX and has the following structure:\n",
    "\n",
    "$\n",
    "\\begin{equation}\n",
    "y(k) = F\\left[y(k-1), y(k-2),..., y(k-m_y), u(k-d), ..., u(k-d-m_u), \\xi(k-1), ..., \\xi(k-m_\\xi) \\right]  \n",
    "\\end{equation}\n",
    "$\n",
    "\n",
    "where $u$ is the input signal, $y$ is the output signal and $\\xi$ is the residue signal. The format of the NARMAX model used is the polynomial form:\n",
    "\n",
    "$\n",
    "\\begin{equation}\n",
    "  y(k) = \\beta_0 + \\sum\\limits_{i_1=1}^n\\beta_{i_1}x_{i_1}(k) + \\sum\\limits_{i_1=1}^n\\sum\\limits_{i_2=i_1}^n\\beta_{i_1i_2}x_{i_1}(k)x_{i_2}(k)+...+\\sum\\limits_{i_1=1}^n...\\sum\\limits_{i_l=i_{l-1}}^n\\beta_{i_1i_2... i_l}x_{i_1}x_{i_2}... x_{i_l} + \\xi(k)\n",
    "\\end{equation}\n",
    "$\n",
    "with\n",
    "\n",
    "$\n",
    "\\begin{equation}\n",
    "x_m(k)=\\left\\{ \\begin{array}{l l}\n",
    "u(k-m) & 1\\leqslant m \\leqslant m_u\\\\\n",
    "y(k-(m - m_u)) & m_u+1\\leqslant m \\leqslant m_u + m_y\\\\\n",
    "\\xi(k - (m - m_u - m_y)) & m_u+m_y+1 \\leqslant m \\leqslant m_u+m_y+m_\\xi\n",
    "\\end{array}\\right.  \n",
    "\\end{equation}\n",
    "$\n",
    "\n",
    "where $m_u$ is the number of input  past values to be considered in the model search, $m_y$ is the number of output  past values to be considered in the model search, $m_\\xi$ is the number of the residue past values to be considered in the model search and $l$ is the maximal polynomial degree to be considered to form the combinations between the signals $u$, $y$ e $\\xi$.\n",
    "\n",
    "Calling each combination $x_{i_1}x_{i_2}... x_{i_l}$ as $p_i$, the Equation above can be rewritten as:\n",
    "\n",
    "$\n",
    "\\begin{equation}\n",
    "  y(k) = \\sum\\limits_{i=1}^M \\beta_ip_i(k) + \\xi(k)\n",
    "\\end{equation}\n",
    "$\n",
    "\n",
    "where $M$ is the number of combinations used in the model search. In matricial form, the equation above is:\n",
    "\n",
    "$\n",
    "\\begin{equation}\n",
    "  Y = PB+\\xi \n",
    "\\end{equation}\n",
    "$\n",
    "\n",
    "where:\n",
    "\n",
    "$\n",
    "\\begin{align}\n",
    "  Y&=\\left[y(1),y(2), ..., y(N)\\right]^T\\\\\n",
    "  B &= \\left[\\beta_1, \\beta_2, ..., \\beta_M \\right]^T\\\\\n",
    "  \\xi&=\\left[\\xi(1), \\xi(2), ..., \\xi(N) \\right]^T\\\\\n",
    "  P = \\left[p_1,p_2,..., p_M\\right] &= \\left[\\begin{array}{cccc}\n",
    "  p_1(1)&p_2(1)&...&p_M(1)\\\\\n",
    "  \\vdots&\\vdots&\\ddots&\\vdots\\\\\n",
    "  p_1(k)&p_2(k)&...&p_M(k)\\\\\n",
    "  \\vdots&\\vdots&\\ddots&\\vdots\\\\\n",
    "  p_1(N)&p_2(N)&...&p_M(N)\n",
    "  \\end{array}\\right]  \n",
    "\\end{align}\n",
    "$\n",
    "\n",
    "where $^T$ stand for the matrix or vector transponse."
   ]
  },
  {
   "cell_type": "markdown",
   "metadata": {
    "slideshow": {
     "slide_type": "slide"
    }
   },
   "source": [
    "## Parameters of the identification process\n",
    "\n",
    "For the identification of the system described at the beginning of this notebook we use the parameters in the cell bellow. As in this demonstration of the FROLS method we know our system, the used parameters are exactly what we need,  but normally we do not know what parameters to use! Normally, to find these parameters, we need to try some values before finding the right ones. If you use $m_u, m_y$ and $m_\\xi$ values higher than necessary, the algorithm will work but the time of processing will be longer. If you use them lower than necessary, the algorithm will not find the correct model. Try to modify the parameters below to see what happens."
   ]
  },
  {
   "cell_type": "code",
   "execution_count": 95,
   "metadata": {
    "collapsed": true
   },
   "outputs": [],
   "source": [
    "mu = 3; \n",
    "my = 2; \n",
    "me = max(mu,my); \n",
    "degree = 3; \n",
    "delay = 1; "
   ]
  },
  {
   "cell_type": "code",
   "execution_count": 77,
   "metadata": {
    "collapsed": true
   },
   "outputs": [],
   "source": [
    "dataLength = 500; % number of samplings to be used during the identification process. Normally a number between 400 and\n",
    "% 600 is good. Do not use large numbers.\n",
    "pho = 1e-2; % a lower value will give you more identified terms. A higher value will give you less.\n",
    "delta = 1e-1; "
   ]
  },
  {
   "cell_type": "markdown",
   "metadata": {},
   "source": [
    "## Build the P matrix"
   ]
  },
  {
   "cell_type": "code",
   "execution_count": 78,
   "metadata": {
    "collapsed": false
   },
   "outputs": [],
   "source": [
    "numberOfCandidates = round(findPMatrixSize(mu - delay + 1, my, degree));\n",
    "begin = randi([1 length(input) - dataLength - 1], 1);\n",
    "u = input(begin+1:begin + dataLength);\n",
    "y = output(begin+1:begin + dataLength);\n",
    "[p, D]= buildPMatrix(u, y, degree, mu, my, delay);\n",
    "y = y(max(mu,my) + 1:end);"
   ]
  },
  {
   "cell_type": "markdown",
   "metadata": {
    "slideshow": {
     "slide_type": "slide"
    }
   },
   "source": [
    "The terms that the FROLS algorithm will use to try to find the model are:"
   ]
  },
  {
   "cell_type": "code",
   "execution_count": 79,
   "metadata": {
    "collapsed": false,
    "slideshow": {
     "slide_type": "slide"
    }
   },
   "outputs": [
    {
     "data": {
      "text/plain": [
       "Columns 1 through 6\n",
       "\n",
       "    '1'    'u(k-1)'    'u(k-2)'    'u(k-3)'    'y(k-1)'    'y(k-2)'\n",
       "\n",
       "  Columns 7 through 10\n",
       "\n",
       "    'u(k-1)u(k-1)'    'u(k-1)u(k-2)'    'u(k-1)u(k-3)'    'u(k-1)y(k-1)'\n",
       "\n",
       "  Columns 11 through 14\n",
       "\n",
       "    'u(k-1)y(k-2)'    'u(k-2)u(k-2)'    'u(k-2)u(k-3)'    'u(k-2)y(k-1)'\n",
       "\n",
       "  Columns 15 through 18\n",
       "\n",
       "    'u(k-2)y(k-2)'    'u(k-3)u(k-3)'    'u(k-3)y(k-1)'    'u(k-3)y(k-2)'\n",
       "\n",
       "  Columns 19 through 22\n",
       "\n",
       "    'y(k-1)y(k-1)'    'y(k-1)y(k-2)'    'y(k-2)y(k-2)'    'u(k-1)u(k-1)u(k-1)'\n",
       "\n",
       "  Columns 23 through 25\n",
       "\n",
       "    'u(k-1)u(k-1)u(k-2)'    'u(k-1)u(k-1)u(k-3)'    'u(k-1)u(k-1)y(k-1)'\n",
       "\n",
       "  Columns 26 through 28\n",
       "\n",
       "    'u(k-1)u(k-1)y(k-2)'    'u(k-1)u(k-2)u(k-2)'    'u(k-1)u(k-2)u(k-3)'\n",
       "\n",
       "  Columns 29 through 31\n",
       "\n",
       "    'u(k-1)u(k-2)y(k-1)'    'u(k-1)u(k-2)y(k-2)'    'u(k-1)u(k-3)u(k-3)'\n",
       "\n",
       "  Columns 32 through 34\n",
       "\n",
       "    'u(k-1)u(k-3)y(k-1)'    'u(k-1)u(k-3)y(k-2)'    'u(k-1)y(k-1)y(k-1)'\n",
       "\n",
       "  Columns 35 through 37\n",
       "\n",
       "    'u(k-1)y(k-1)y(k-2)'    'u(k-1)y(k-2)y(k-2)'    'u(k-2)u(k-2)u(k-2)'\n",
       "\n",
       "  Columns 38 through 40\n",
       "\n",
       "    'u(k-2)u(k-2)u(k-3)'    'u(k-2)u(k-2)y(k-1)'    'u(k-2)u(k-2)y(k-2)'\n",
       "\n",
       "  Columns 41 through 43\n",
       "\n",
       "    'u(k-2)u(k-3)u(k-3)'    'u(k-2)u(k-3)y(k-1)'    'u(k-2)u(k-3)y(k-2)'\n",
       "\n",
       "  Columns 44 through 46\n",
       "\n",
       "    'u(k-2)y(k-1)y(k-1)'    'u(k-2)y(k-1)y(k-2)'    'u(k-2)y(k-2)y(k-2)'\n",
       "\n",
       "  Columns 47 through 49\n",
       "\n",
       "    'u(k-3)u(k-3)u(k-3)'    'u(k-3)u(k-3)y(k-1)'    'u(k-3)u(k-3)y(k-2)'\n",
       "\n",
       "  Columns 50 through 52\n",
       "\n",
       "    'u(k-3)y(k-1)y(k-1)'    'u(k-3)y(k-1)y(k-2)'    'u(k-3)y(k-2)y(k-2)'\n",
       "\n",
       "  Columns 53 through 55\n",
       "\n",
       "    'y(k-1)y(k-1)y(k-1)'    'y(k-1)y(k-1)y(k-2)'    'y(k-1)y(k-2)y(k-2)'\n",
       "\n",
       "  Column 56\n",
       "\n",
       "    'y(k-2)y(k-2)y(k-2)'"
      ]
     },
     "execution_count": 79,
     "metadata": {},
     "output_type": "execute_result"
    }
   ],
   "source": [
    "disp(D)"
   ]
  },
  {
   "cell_type": "markdown",
   "metadata": {
    "slideshow": {
     "slide_type": "slide"
    }
   },
   "source": [
    "The first 15 lines of the $P$ matrix are:"
   ]
  },
  {
   "cell_type": "code",
   "execution_count": 80,
   "metadata": {
    "collapsed": false,
    "slideshow": {
     "slide_type": "slide"
    }
   },
   "outputs": [
    {
     "data": {
      "text/plain": [
       "Columns 1 through 7\n",
       "\n",
       "    1.0000    0.8944    0.7384   -0.6667   -0.0602   -0.0933    0.7999\n",
       "    1.0000    0.0782    0.8944    0.7384    0.0827   -0.0602    0.0061\n",
       "    1.0000    1.4508    0.0782    0.8944    0.1110    0.0827    2.1049\n",
       "    1.0000   -0.1197    1.4508    0.0782   -0.0394    0.1110    0.0143\n",
       "    1.0000    0.6259   -0.1197    1.4508    0.1309   -0.0394    0.3918\n",
       "    1.0000   -0.9464    0.6259   -0.1197   -0.0137    0.1309    0.8956\n",
       "    1.0000    0.2812   -0.9464    0.6259    0.0520   -0.0137    0.0791\n",
       "    1.0000    0.2343    0.2812   -0.9464   -0.0863    0.0520    0.0549\n",
       "    1.0000   -0.4568    0.2343    0.2812    0.0123   -0.0863    0.2087\n",
       "    1.0000   -0.3596   -0.4568    0.2343    0.0300    0.0123    0.1293\n",
       "    1.0000    0.6613   -0.3596   -0.4568   -0.0313    0.0300    0.4373\n",
       "    1.0000    0.9056    0.6613   -0.3596   -0.0350   -0.0313    0.8201\n",
       "    1.0000   -1.1705    0.9056    0.6613    0.0715   -0.0350    1.3700\n",
       "    1.0000   -0.5392   -1.1705    0.9056    0.1538    0.0715    0.2907\n",
       "    1.0000    1.3765   -0.5392   -1.1705   -0.0294    0.1538    1.8946\n",
       "\n",
       "  Columns 8 through 14\n",
       "\n",
       "    0.6604   -0.5962   -0.0538   -0.0834    0.5453   -0.4923   -0.0445\n",
       "    0.0699    0.0578    0.0065   -0.0047    0.7999    0.6604    0.0740\n",
       "    0.1135    1.2976    0.1611    0.1200    0.0061    0.0699    0.0087\n",
       "   -0.1736   -0.0094    0.0047   -0.0133    2.1049    0.1135   -0.0572\n",
       "   -0.0749    0.9081    0.0819   -0.0247    0.0143   -0.1736   -0.0157\n",
       "   -0.5923    0.1132    0.0129   -0.1239    0.3918   -0.0749   -0.0086\n",
       "   -0.2661    0.1760    0.0146   -0.0038    0.8956   -0.5923   -0.0492\n",
       "    0.0659   -0.2218   -0.0202    0.0122    0.0791   -0.2661   -0.0243\n",
       "   -0.1070   -0.1285   -0.0056    0.0394    0.0549    0.0659    0.0029\n",
       "    0.1643   -0.0843   -0.0108   -0.0044    0.2087   -0.1070   -0.0137\n",
       "   -0.2378   -0.3021   -0.0207    0.0198    0.1293    0.1643    0.0113\n",
       "    0.5989   -0.3256   -0.0317   -0.0284    0.4373   -0.2378   -0.0231\n",
       "   -1.0599   -0.7740   -0.0837    0.0410    0.8201    0.5989    0.0647\n",
       "    0.6311   -0.4883   -0.0829   -0.0385    1.3700   -1.0599   -0.1801\n",
       "   -0.7421   -1.6111   -0.0405    0.2117    0.2907    0.6311    0.0159\n",
       "\n",
       "  Columns 15 through 21\n",
       "\n",
       "   -0.0689    0.4444    0.0401    0.0622    0.0036    0.0056    0.0087\n",
       "   -0.0538    0.5453    0.0611   -0.0445    0.0068   -0.0050    0.0036\n",
       "    0.0065    0.7999    0.0993    0.0740    0.0123    0.0092    0.0068\n",
       "    0.1611    0.0061   -0.0031    0.0087    0.0016   -0.0044    0.0123\n",
       "    0.0047    2.1049    0.1899   -0.0572    0.0171   -0.0052    0.0016\n",
       "    0.0819    0.0143    0.0016   -0.0157    0.0002   -0.0018    0.0171\n",
       "    0.0129    0.3918    0.0326   -0.0086    0.0027   -0.0007    0.0002\n",
       "    0.0146    0.8956    0.0817   -0.0492    0.0075   -0.0045    0.0027\n",
       "   -0.0202    0.0791    0.0035   -0.0243    0.0002   -0.0011    0.0075\n",
       "   -0.0056    0.0549    0.0070    0.0029    0.0009    0.0004    0.0002\n",
       "   -0.0108    0.2087    0.0143   -0.0137    0.0010   -0.0009    0.0009\n",
       "   -0.0207    0.1293    0.0126    0.0113    0.0012    0.0011    0.0010\n",
       "   -0.0317    0.4373    0.0473   -0.0231    0.0051   -0.0025    0.0012\n",
       "   -0.0837    0.8201    0.1393    0.0647    0.0237    0.0110    0.0051\n",
       "   -0.0829    1.3700    0.0344   -0.1801    0.0009   -0.0045    0.0237\n",
       "\n",
       "  Columns 22 through 28\n",
       "\n",
       "    0.7154    0.5907   -0.5333   -0.0482   -0.0746    0.4877   -0.4403\n",
       "    0.0005    0.0055    0.0045    0.0005   -0.0004    0.0626    0.0517\n",
       "    3.0538    0.1646    1.8826    0.2337    0.1741    0.0089    0.1015\n",
       "   -0.0017    0.0208    0.0011   -0.0006    0.0016   -0.2519   -0.0136\n",
       "    0.2452   -0.0469    0.5684    0.0513   -0.0154    0.0090   -0.1087\n",
       "   -0.8476    0.5606   -0.1072   -0.0122    0.1172   -0.3708    0.0709\n",
       "    0.0222   -0.0748    0.0495    0.0041   -0.0011    0.2518   -0.1666\n",
       "    0.0129    0.0154   -0.0520   -0.0047    0.0029    0.0185   -0.0624\n",
       "   -0.0953    0.0489    0.0587    0.0026   -0.0180   -0.0251   -0.0301\n",
       "   -0.0465   -0.0591    0.0303    0.0039    0.0016   -0.0750    0.0385\n",
       "    0.2892   -0.1573   -0.1998   -0.0137    0.0131    0.0855    0.1086\n",
       "    0.7426    0.5423   -0.2949   -0.0287   -0.0257    0.3960   -0.2153\n",
       "   -1.6035    1.2406    0.9060    0.0979   -0.0479   -0.9598   -0.7009\n",
       "   -0.1567   -0.3403    0.2633    0.0447    0.0208   -0.7386    0.5715\n",
       "    2.6079   -1.0215   -2.2176   -0.0558    0.2915    0.4001    0.8686\n",
       "\n",
       "  Columns 29 through 35\n",
       "\n",
       "   -0.0398   -0.0616    0.3975    0.0359    0.0556    0.0032    0.0050\n",
       "    0.0058   -0.0042    0.0426    0.0048   -0.0035    0.0005   -0.0004\n",
       "    0.0126    0.0094    1.1605    0.1441    0.1073    0.0179    0.0133\n",
       "    0.0068   -0.0193   -0.0007    0.0004   -0.0010   -0.0002    0.0005\n",
       "   -0.0098    0.0030    1.3175    0.1189   -0.0358    0.0107   -0.0032\n",
       "    0.0081   -0.0775   -0.0135   -0.0015    0.0148   -0.0002    0.0017\n",
       "   -0.0138    0.0036    0.1102    0.0092   -0.0024    0.0008   -0.0002\n",
       "   -0.0057    0.0034    0.2099    0.0191   -0.0115    0.0017   -0.0011\n",
       "   -0.0013    0.0092   -0.0361   -0.0016    0.0111   -0.0001    0.0005\n",
       "    0.0049    0.0020   -0.0197   -0.0025   -0.0010   -0.0003   -0.0001\n",
       "    0.0074   -0.0071    0.1380    0.0095   -0.0090    0.0006   -0.0006\n",
       "   -0.0210   -0.0188    0.1171    0.0114    0.0102    0.0011    0.0010\n",
       "   -0.0758    0.0371   -0.5119   -0.0553    0.0271   -0.0060    0.0029\n",
       "    0.0971    0.0451   -0.4421   -0.0751   -0.0349   -0.0128   -0.0059\n",
       "    0.0218   -0.1142    1.8857    0.0474   -0.2478    0.0012   -0.0062\n",
       "\n",
       "  Columns 36 through 42\n",
       "\n",
       "    0.0078    0.4026   -0.3635   -0.0328   -0.0509    0.3282    0.0296\n",
       "    0.0003    0.7154    0.5907    0.0662   -0.0482    0.4877    0.0546\n",
       "    0.0099    0.0005    0.0055    0.0007    0.0005    0.0626    0.0078\n",
       "   -0.0015    3.0538    0.1646   -0.0829    0.2337    0.0089   -0.0045\n",
       "    0.0010   -0.0017    0.0208    0.0019   -0.0006   -0.2519   -0.0227\n",
       "   -0.0162    0.2452   -0.0469   -0.0054    0.0513    0.0090    0.0010\n",
       "    0.0001   -0.8476    0.5606    0.0466   -0.0122   -0.3708   -0.0308\n",
       "    0.0006    0.0222   -0.0748   -0.0068    0.0041    0.2518    0.0230\n",
       "   -0.0034    0.0129    0.0154    0.0007   -0.0047    0.0185    0.0008\n",
       "   -0.0001   -0.0953    0.0489    0.0063    0.0026   -0.0251   -0.0032\n",
       "    0.0006   -0.0465   -0.0591   -0.0040    0.0039   -0.0750   -0.0051\n",
       "    0.0009    0.2892   -0.1573   -0.0153   -0.0137    0.0855    0.0083\n",
       "   -0.0014    0.7426    0.5423    0.0586   -0.0287    0.3960    0.0428\n",
       "   -0.0028   -1.6035    1.2406    0.2107    0.0979   -0.9598   -0.1630\n",
       "    0.0326   -0.1567   -0.3403   -0.0086    0.0447   -0.7386   -0.0186\n",
       "\n",
       "  Columns 43 through 49\n",
       "\n",
       "    0.0459    0.0027    0.0041    0.0064   -0.2963   -0.0268   -0.0415\n",
       "   -0.0398    0.0061   -0.0045    0.0032    0.4026    0.0451   -0.0328\n",
       "    0.0058    0.0010    0.0007    0.0005    0.7154    0.0888    0.0662\n",
       "    0.0126    0.0023   -0.0063    0.0179    0.0005   -0.0002    0.0007\n",
       "    0.0068   -0.0021    0.0006   -0.0002    3.0538    0.2755   -0.0829\n",
       "   -0.0098    0.0001   -0.0011    0.0107   -0.0017   -0.0002    0.0019\n",
       "    0.0081   -0.0026    0.0007   -0.0002    0.2452    0.0204   -0.0054\n",
       "   -0.0138    0.0021   -0.0013    0.0008   -0.8476   -0.0773    0.0466\n",
       "   -0.0057    0.0000   -0.0002    0.0017    0.0222    0.0010   -0.0068\n",
       "   -0.0013   -0.0004   -0.0002   -0.0001    0.0129    0.0016    0.0007\n",
       "    0.0049   -0.0004    0.0003   -0.0003   -0.0953   -0.0065    0.0063\n",
       "    0.0074    0.0008    0.0007    0.0006   -0.0465   -0.0045   -0.0040\n",
       "   -0.0210    0.0046   -0.0023    0.0011    0.2892    0.0313   -0.0153\n",
       "   -0.0758   -0.0277   -0.0129   -0.0060    0.7426    0.1261    0.0586\n",
       "    0.0971   -0.0005    0.0024   -0.0128   -1.6035   -0.0403    0.2107\n",
       "\n",
       "  Columns 50 through 56\n",
       "\n",
       "   -0.0024   -0.0037   -0.0058   -0.0002   -0.0003   -0.0005   -0.0008\n",
       "    0.0051   -0.0037    0.0027    0.0006   -0.0004    0.0003   -0.0002\n",
       "    0.0110    0.0082    0.0061    0.0014    0.0010    0.0008    0.0006\n",
       "    0.0001   -0.0003    0.0010   -0.0001    0.0002   -0.0005    0.0014\n",
       "    0.0249   -0.0075    0.0023    0.0022   -0.0007    0.0002   -0.0001\n",
       "   -0.0000    0.0002   -0.0021   -0.0000    0.0000   -0.0002    0.0022\n",
       "    0.0017   -0.0004    0.0001    0.0001   -0.0000    0.0000   -0.0000\n",
       "   -0.0071    0.0043   -0.0026   -0.0006    0.0004   -0.0002    0.0001\n",
       "    0.0000   -0.0003    0.0021    0.0000   -0.0000    0.0001   -0.0006\n",
       "    0.0002    0.0001    0.0000    0.0000    0.0000    0.0000    0.0000\n",
       "   -0.0004    0.0004   -0.0004   -0.0000    0.0000   -0.0000    0.0000\n",
       "   -0.0004   -0.0004   -0.0004   -0.0000   -0.0000   -0.0000   -0.0000\n",
       "    0.0034   -0.0017    0.0008    0.0004   -0.0002    0.0001   -0.0000\n",
       "    0.0214    0.0100    0.0046    0.0036    0.0017    0.0008    0.0004\n",
       "   -0.0010    0.0053   -0.0277   -0.0000    0.0001   -0.0007    0.0036"
      ]
     },
     "execution_count": 80,
     "metadata": {},
     "output_type": "execute_result"
    }
   ],
   "source": [
    "disp(p(1:15,:))"
   ]
  },
  {
   "cell_type": "markdown",
   "metadata": {},
   "source": [
    "## The system identification"
   ]
  },
  {
   "cell_type": "code",
   "execution_count": 81,
   "metadata": {
    "collapsed": false
   },
   "outputs": [],
   "source": [
    "global l q g err A ESR M0;\n",
    "s = 1;\n",
    "ESR = 1;\n",
    "M = size(p, 3);\n",
    "l = zeros(1, M);"
   ]
  },
  {
   "cell_type": "markdown",
   "metadata": {},
   "source": [
    "### The function that implements the FROLS algorithm is written below, with brief explanations about some parts inserted in the code. Actually this function can handle more than one data collection of the same system (that is the reason of the m in mfrols), but in this notebook we will not use multiple trials. Just ignore the outside loop and the variable j.\n",
    "\n",
    "function beta = mfrols(p, y, pho, s)\n",
    "    \n",
    "$\\text{The global variables are used due to the lack of pointers in Matlab/Octave}$\n",
    "\n",
    "    global l;\n",
    "    global err ESR;\n",
    "    global A;\n",
    "    global q g M0;\n",
    "    beta = [];\n",
    "    M = size(p,2);\n",
    "    L = size(p,3);\n",
    "    gs=zeros(L,M);\n",
    "    ERR=zeros(L,M);\n",
    "    qs=zeros(size(p));\n",
    "    \n",
    "    for j=1:L\n",
    "        sigma = y(:,j)'*y(:,j);\n",
    "        \n",
    "        for m=1:M\n",
    "            if (max(m*ones(size(l))==l)==0)\n",
    "            "
   ]
  },
  {
   "cell_type": "markdown",
   "metadata": {},
   "source": [
    "$\\text{The Gram-Schmidt method was implemented in a modified way, as shown in Rice, JR(1966)}$\n",
    "\n",
    "$\\text{For each } m, \\text{ we compute: } \\\\\n",
    "qs_m = p_m - \\sum\\limits_{r=1}^{s-1}\\frac{q_r^Tqs_m}{q_r^Tq_r}q_r$\n",
    "                 \n",
    "                 qs(:,m,j) = p(:,m,j);\n",
    "                 for r=1:s-1\n",
    "                     qs(:,m,j) = qs(:,m,j) - (squeeze(q(:,r,j))'*qs(:,m,j))/...\n",
    "                         (squeeze(q(:,r,j))'*squeeze(q(:,r,j)))*squeeze(q(:,r,j));\n",
    "                 end"
   ]
  },
  {
   "cell_type": "markdown",
   "metadata": {},
   "source": [
    " \n",
    "$\\text{We compute for each candidate that was not chosen:}$\n",
    "\n",
    "$gs_m = \\frac{y^Tqs_m}{qs_m^Tqs_m}\\\\\n",
    "\\text{ERR}_m = gs_m^2\\frac{qs_m^Tqs}{y^Ty}$\n",
    "\n",
    "                gs(j,m) = (y(:,j)'*squeeze(qs(:,m,j)))/(squeeze(qs(:,m,j))'*squeeze(qs(:,m,j)));\n",
    "                ERR(j,m) = (gs(j,m)^2)*(squeeze(qs(:,m,j))'*squeeze(qs(:,m,j)))/sigma;\n",
    "            else\n",
    "                ERR(j,m)=0;\n",
    "            end\n",
    "        end \n",
    "    end"
   ]
  },
  {
   "cell_type": "markdown",
   "metadata": {},
   "source": [
    "    \n",
    "$\\text{And here we chose to be part of the model the candidate term with the highest ERR.}$\n",
    "\n",
    "    ERR_m = mean(ERR, 1);\n",
    "    l(s) = find(ERR_m == max(ERR_m), 1);\n",
    "    err(s) = ERR_m(l(s));\n",
    "    for j=1:L"
   ]
  },
  {
   "cell_type": "markdown",
   "metadata": {},
   "source": [
    "$\\text{After the model term has been chosen we compute the values of the matrix } A$\n",
    "\n",
    "\n",
    "$a_{r,s} = \\frac{q_r^Tp_{\\text{chosen term}}}{q_r^Tq_r}, 1 \\leqslant r \\leqslant s - 1\\\\\n",
    "a_{s,s} = 1$\n",
    "\n",
    "        for r = 1:s-1\n",
    "            A(r, s, j) = (q(:,r,j)'*p(:,l(s),j))/(q(:,r,j)'*q(:,r,j));    \n",
    "        end\n",
    "        A(s, s, j) = 1;\n",
    "        q(:, s,j) = qs(:,l(s),j);\n",
    "        g(j,s) = gs(j,l(s));\n",
    "    end    \n",
    "\n",
    "    \n",
    "$\\text{After this process the matrix } A \\text{ will have the format: }\\\\\n",
    "A=\\left[\\begin{array}{cccc}\n",
    "  1&a_{12}&...&a_{1s}\\\\\n",
    "  0&1&...&a_{2s}\\\\\n",
    "  \\vdots&\\vdots&\\ddots&\\vdots\\\\\n",
    "  0&...&1&a_{s-1,s}\\\\\n",
    "  0&0&...&1  \\end{array} \\right]$\n",
    "\n",
    "    "
   ]
  },
  {
   "cell_type": "markdown",
   "metadata": {},
   "source": [
    "  ESR = ESR - err(s);  \n",
    "  \n",
    "$\\text{The stop criterium is based on the ERR value of the chosen term. If it is lower than } \\rho,\\text{ the process of search for terms stops.}$\n",
    "    \n",
    "    if (err(s) >= pho && s < M)\n",
    "       s = s + 1; \n",
    "       clear qs \n",
    "       clear gs\n",
    "       \n",
    " "
   ]
  },
  {
   "cell_type": "markdown",
   "metadata": {},
   "source": [
    "      \n",
    "$\\text{Here is the recurrent call of the frols algorithm.}$\n",
    "\n",
    "       beta = mfrols(p, y, pho, s);\n",
    "    else\n",
    "       M0 = s;\n",
    "       s = s + 1;\n",
    "       for j=1:L\n",
    "\n",
    "$\\text{ At the end, we compute the coefficients } \\beta \\text{ of each term by doing:}\\\\\n",
    "B = A^{-1}g$\n",
    "\n",
    "            beta(:,j) = A(:,:,j)\\g(j,:)';\n",
    "       end       \n",
    "    end   \n",
    "end"
   ]
  },
  {
   "cell_type": "code",
   "execution_count": 82,
   "metadata": {
    "collapsed": false
   },
   "outputs": [],
   "source": [
    "q = []; err=[]; A=[]; g=[]; \n",
    "beta = mfrols(p, y, pho, s);\n",
    "la = l(1:M0)';\n",
    "Da = D(la)';"
   ]
  },
  {
   "cell_type": "code",
   "execution_count": 83,
   "metadata": {
    "collapsed": false
   },
   "outputs": [],
   "source": [
    "[Dn, an, ln] = NARXNoiseModelIdentification(input, output,  degree, mu, my, me, delay, dataLength, 1, pho,  ...\n",
    "        beta, la);"
   ]
  },
  {
   "cell_type": "code",
   "execution_count": 84,
   "metadata": {
    "collapsed": false
   },
   "outputs": [],
   "source": [
    "[a, an, xi] = NARMAXCompleteIdentification(input, output, Da, Dn, dataLength, ...\n",
    "        1,  delta, degree, degree);"
   ]
  },
  {
   "cell_type": "markdown",
   "metadata": {
    "slideshow": {
     "slide_type": "slide"
    }
   },
   "source": [
    "## Identified Model"
   ]
  },
  {
   "cell_type": "code",
   "execution_count": 85,
   "metadata": {
    "collapsed": false,
    "slideshow": {
     "slide_type": "slide"
    }
   },
   "outputs": [
    {
     "data": {
      "text/plain": [
       "'u(k-2)'    '0.1'\n",
       "\n",
       "    'u(k-1)y(k-1)'    '-0.5'\n",
       "\n",
       "    'y(k-1)'    '0.3'\n",
       "\n",
       "    'u(k-2)u(k-2)u(k-2)'    '-1.3972e-17'"
      ]
     },
     "execution_count": 85,
     "metadata": {},
     "output_type": "execute_result"
    }
   ],
   "source": [
    "for i = 1:length(Da)\n",
    "    disp({Da{i}, num2str(a(i))}) \n",
    "end"
   ]
  },
  {
   "cell_type": "markdown",
   "metadata": {
    "slideshow": {
     "slide_type": "slide"
    }
   },
   "source": [
    "Note that the found terms should be the same of the system difference equation on the top of this notebook."
   ]
  },
  {
   "cell_type": "markdown",
   "metadata": {
    "slideshow": {
     "slide_type": "slide"
    }
   },
   "source": [
    "# Generalized Frequency Response Function (GFRF)"
   ]
  },
  {
   "cell_type": "markdown",
   "metadata": {
    "slideshow": {
     "slide_type": "slide"
    }
   },
   "source": [
    "If your identified system has terms with inputs and outputs, the GFRF will be non-null for \n",
    "degrees higher than the maximal polynomial degree. In this case, a good number\n",
    "is to add one to your maximal polynomial degree. If you have only\n",
    "inputs or outputs terms, the GFRFdegree will be the maximal\n",
    "polynomial degree."
   ]
  },
  {
   "cell_type": "code",
   "execution_count": 86,
   "metadata": {
    "collapsed": true
   },
   "outputs": [],
   "source": [
    "GFRFdegree = 3;"
   ]
  },
  {
   "cell_type": "code",
   "execution_count": 87,
   "metadata": {
    "collapsed": false
   },
   "outputs": [],
   "source": [
    "Hn = computeSignalsGFRF(Da, Fs, a, GFRFdegree);"
   ]
  },
  {
   "cell_type": "code",
   "execution_count": 88,
   "metadata": {
    "collapsed": false,
    "slideshow": {
     "slide_type": "slide"
    }
   },
   "outputs": [
    {
     "data": {
      "text/plain": [
       "GFRF of order 1: \n",
       "\n",
       "             /   pi f1 i \\\n",
       "          exp| - ------- |\n",
       "             \\     25    /\n",
       "  - -----------------------------\n",
       "       /      /   pi f1 i \\     \\\n",
       "       | 3 exp| - ------- |     |\n",
       "       |      \\     50    /     |\n",
       "    10 | ------------------ - 1 |\n",
       "       \\         10             /\n",
       "GFRF of order 2: \n",
       "\n",
       "               /   pi f1 i \\    /   pi f1 i \\    /   pi f2 i \\\n",
       "            exp| - ------- | exp| - ------- | exp| - ------- |\n",
       "               \\     25    /    \\     50    /    \\     50    /\n",
       "  - ------------------------------------------------------------------\n",
       "       /      /   pi f1 i \\     \\ /      /   pi f1 i   pi f2 i \\     \\\n",
       "       | 3 exp| - ------- |     | | 3 exp| - ------- - ------- |     |\n",
       "       |      \\     50    /     | |      \\     50        50    /     |\n",
       "    20 | ------------------ - 1 | | ---------------------------- - 1 |\n",
       "       \\         10             / \\              10                  /\n",
       "GFRF of order 3: \n",
       "\n",
       "  /                     /        pi f2 i   pi f3 i \\\n",
       "  | 2267086615857769 exp| - #4 - ------- - ------- |\n",
       "  |                     \\          25        25    /\n",
       "  | ------------------------------------------------ -\n",
       "  |        162259276829213363391578010288128\n",
       "  |\n",
       "  \\\n",
       "  \n",
       "                                                        \\\n",
       "                                                        |\n",
       "     exp(-#4) exp(-#2) exp(-#1) exp(-#3) exp(- #2 - #1) |\n",
       "     -------------------------------------------------- | /\n",
       "          / 3 exp(-#2)     \\ / 3 exp(- #2 - #1)     \\   |\n",
       "       40 | ---------- - 1 | | ---------------- - 1 |   |\n",
       "          \\     10         / \\        10            /   /\n",
       "  \n",
       "     / 3 exp(- #2 - #1 - #3)     \\\n",
       "     | --------------------- - 1 |\n",
       "     \\          10               /\n",
       "  \n",
       "  where\n",
       "  \n",
       "           pi f2 i\n",
       "     #1 == -------\n",
       "             50\n",
       "  \n",
       "           pi f1 i\n",
       "     #2 == -------\n",
       "             50\n",
       "  \n",
       "           pi f3 i\n",
       "     #3 == -------\n",
       "             50\n",
       "  \n",
       "           pi f1 i\n",
       "     #4 == -------\n",
       "             25"
      ]
     },
     "execution_count": 88,
     "metadata": {},
     "output_type": "execute_result"
    }
   ],
   "source": [
    "for j = 1:GFRFdegree\n",
    "        disp(['GFRF of order ' num2str(j) ': '])\n",
    "        pretty(Hn{j})\n",
    "end"
   ]
  },
  {
   "cell_type": "code",
   "execution_count": 89,
   "metadata": {
    "collapsed": false
   },
   "outputs": [
    {
     "data": {
      "image/png": "[encoded data removed]",
      "text/plain": [
       "<IPython.core.display.Image object>"
      ]
     },
     "metadata": {},
     "output_type": "display_data"
    }
   ],
   "source": [
    "Hfun = matlabFunction((abs(Hn{1})));\n",
    "freq = [linspace(-50, 0, 50) linspace(0, 50, 50)];\n",
    "plot(freq, Hfun(freq))\n",
    "xlabel('f (Hz)'); ylabel('H_1')"
   ]
  },
  {
   "cell_type": "code",
   "execution_count": 90,
   "metadata": {
    "collapsed": false
   },
   "outputs": [
    {
     "data": {
      "image/png": "[encoded data removed]",
      "text/plain": [
       "<IPython.core.display.Image object>"
      ]
     },
     "metadata": {},
     "output_type": "display_data"
    }
   ],
   "source": [
    "Hfun = matlabFunction((abs(Hn{2})));\n",
    "freq1 = [linspace(-50, 0, 20) linspace(0, 50, 20)];\n",
    "freq2 = [linspace(-50, 0, 20) linspace(0, 50, 20)];\n",
    "[F1,F2] = meshgrid(freq1,freq2);\n",
    "surf(F1, F2, Hfun(F1,F2));\n",
    "xlabel('f_1 (Hz)'); ylabel('f_2 (Hz)');"
   ]
  },
  {
   "cell_type": "markdown",
   "metadata": {
    "slideshow": {
     "slide_type": "slide"
    }
   },
   "source": [
    "# Nonlinear Output Frequency Response Function (NOFRF)"
   ]
  },
  {
   "cell_type": "markdown",
   "metadata": {
    "slideshow": {
     "slide_type": "slide"
    }
   },
   "source": [
    "The frequency response of the output signal $y$ of a system to a given input $u$ is:\n",
    "\n",
    "$Y(j\\omega) = \\sum\\limits_{n=1}^N Y_n(j\\omega)$\n",
    "\n",
    "where:\n",
    "\n",
    "$Y_n(j\\omega)=\\frac{1/\\sqrt{n}}{(2\\pi)^{n-1}}\\int\\limits_{\\omega=\\omega_1+...+\\omega_n}H_n(j\\omega,...,j\\omega_n)\\prod\\limits_{i=1}^nU(j\\omega_i)d\\sigma_{\\omega n}$ "
   ]
  },
  {
   "cell_type": "markdown",
   "metadata": {},
   "source": [
    "As an example of the use of NOFRF, below the expressions above will be used to predict what will be the output of the system to the input signal $u(t) = cos(2\\pi 8t)$. "
   ]
  },
  {
   "cell_type": "code",
   "execution_count": 91,
   "metadata": {
    "collapsed": true
   },
   "outputs": [],
   "source": [
    "t = 0:1/Fs:10000/Fs-1/Fs;\n",
    "u = cos(2*pi*8*t);"
   ]
  },
  {
   "cell_type": "markdown",
   "metadata": {},
   "source": [
    "First, we compute the FFT of $u(t)$."
   ]
  },
  {
   "cell_type": "code",
   "execution_count": 92,
   "metadata": {
    "collapsed": false
   },
   "outputs": [
    {
     "data": {
      "image/png": "[encoded data removed]",
      "text/plain": [
       "<IPython.core.display.Image object>"
      ]
     },
     "metadata": {},
     "output_type": "display_data"
    }
   ],
   "source": [
    "fres = 0.1; % the frequency resolution of the NOFRF\n",
    "fmin = 0; % lower frequency limit of the NOFRF\n",
    "fmax = 50; % upper frequency limit of the NOFRF\n",
    "\n",
    "\n",
    "U = computeSignalFFT(u', Fs, fres); f_u = -Fs/2:fres:Fs/2;\n",
    "plot(f_u, abs(U));xlim([0 12]); xlabel('f(Hz)');ylabel('|U(f)|')"
   ]
  },
  {
   "cell_type": "code",
   "execution_count": 93,
   "metadata": {
    "collapsed": true
   },
   "outputs": [],
   "source": [
    "% Initialize variables for the NOFRF computation\n",
    "fv = -Fs/2:fres:Fs/2;\n",
    "f_out = fmin:fres:fmax;\n",
    "f_inputMin = 4;\n",
    "f_inputMax = 12;\n",
    "NOFRF = zeros(size(f_out));"
   ]
  },
  {
   "cell_type": "code",
   "execution_count": 94,
   "metadata": {
    "collapsed": false
   },
   "outputs": [
    {
     "data": {
      "image/png": "[encoded data removed]",
      "text/plain": [
       "<IPython.core.display.Image object>"
      ]
     },
     "metadata": {},
     "output_type": "display_data"
    }
   ],
   "source": [
    "for i = 1:3\n",
    "       if  logical(Hn{i} ~= 0)\n",
    "           HnFunction = matlabFunction(Hn{i});\n",
    "           for j = 1:length(f_out)\n",
    "               if i == 1\n",
    "                   validFrequencyIndices = abs(fv-f_out(j))<=1e-3 & f_out(j)>=f_inputMin(1) & f_out(j) <= f_inputMax(1);\n",
    "                   if ~isempty(U(validFrequencyIndices))\n",
    "                        NOFRF(j) = 2 * HnFunction(f_out(j)) * U(validFrequencyIndices);\n",
    "                   end\n",
    "               else\n",
    "                   NOFRF(j) = NOFRF(j) +  2 * computeDegreeNOFRF(HnFunction, U, Fs, i, f_out(j), fres, f_inputMin, f_inputMax);\n",
    "               end\n",
    "           end \n",
    "       end\n",
    "end \n",
    "plot(f_out, abs(NOFRF))"
   ]
  },
  {
   "cell_type": "code",
   "execution_count": null,
   "metadata": {
    "collapsed": true
   },
   "outputs": [],
   "source": []
  }
 ],
 "metadata": {
  "kernelspec": {
   "display_name": "Matlab",
   "language": "matlab",
   "name": "matlab_kernel"
  },
  "language_info": {
   "codemirror_mode": "Octave",
   "file_extension": ".m",
   "help_links": [
    {
     "text": "MetaKernel Magics",
     "url": "https://github.com/calysto/metakernel/blob/master/metakernel/magics/README.md"
    }
   ],
   "mimetype": "text/x-matlab",
   "name": "octave"
  }
 },
 "nbformat": 4,
 "nbformat_minor": 0
}
